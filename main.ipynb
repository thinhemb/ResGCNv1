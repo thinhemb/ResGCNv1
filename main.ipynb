{
 "cells": [
  {
   "cell_type": "code",
   "execution_count": 1,
   "metadata": {},
   "outputs": [],
   "source": [
    "!python scripts/modify_configs.py --path /home/thinh_do/Workplace/ResGCNv1/resources  --ntu60_path /home/thinh_do/Workplace/ResGCNv1/NTU_RGBD/nturgbd_skeletons_s001_to_s017  --ntu120_path /home/thinh_do/Workplace/ResGCNv1/NTU_RGBD/nturgbd_skeletons_s018_to_s032\n"
   ]
  },
  {
   "cell_type": "code",
   "execution_count": 2,
   "metadata": {},
   "outputs": [
    {
     "name": "stdout",
     "output_type": "stream",
     "text": [
      "[ 2022-04-13 23:24:58,644 ] \n",
      "[ 2022-04-13 23:24:58,644 ] Starting generating ...\n",
      "[ 2022-04-13 23:24:58,644 ] Dataset: ntu-xsub\n",
      "[ 2022-04-13 23:24:58,644 ] Phase: train\n",
      "[ 2022-04-13 23:24:59,706 ] Phase: eval\n",
      "[ 2022-04-13 23:25:00,878 ] Finish generating!\n",
      "[ 2022-04-13 23:25:04,364 ] \n",
      "[ 2022-04-13 23:25:04,364 ] Starting generating ...\n",
      "[ 2022-04-13 23:25:04,364 ] Dataset: ntu-xview\n",
      "[ 2022-04-13 23:25:04,364 ] Phase: train\n",
      "[ 2022-04-13 23:25:05,366 ] Phase: eval\n",
      "[ 2022-04-13 23:25:06,547 ] Finish generating!\n",
      "[ 2022-04-13 23:25:10,019 ] \n",
      "[ 2022-04-13 23:25:10,019 ] Starting generating ...\n",
      "[ 2022-04-13 23:25:10,020 ] Dataset: ntu-xsub120\n",
      "[ 2022-04-13 23:25:10,020 ] Phase: train\n",
      "[ 2022-04-13 23:25:11,776 ] Phase: eval\n",
      "[ 2022-04-13 23:25:13,769 ] Finish generating!\n",
      "[ 2022-04-13 23:25:16,486 ] \n",
      "[ 2022-04-13 23:25:16,486 ] Starting generating ...\n",
      "[ 2022-04-13 23:25:16,486 ] Dataset: ntu-xset120\n",
      "[ 2022-04-13 23:25:16,486 ] Phase: train\n",
      "[ 2022-04-13 23:25:18,253 ] Phase: eval\n",
      "[ 2022-04-13 23:25:19,959 ] Finish generating!\n"
     ]
    }
   ],
   "source": [
    "!bash scripts/auto_gen_data.sh"
   ]
  },
  {
   "cell_type": "code",
   "execution_count": 3,
   "metadata": {},
   "outputs": [
    {
     "name": "stdout",
     "output_type": "stream",
     "text": [
      "[ 2022-04-13 23:25:42,628 ] \n",
      "[ 2022-04-13 23:25:42,628 ] Starting generating ...\n",
      "[ 2022-04-13 23:25:42,628 ] Dataset: ntu-xset120\n",
      "[ 2022-04-13 23:25:42,628 ] Phase: train\n",
      "[ 2022-04-13 23:25:43,742 ] Phase: eval\n",
      "[ 2022-04-13 23:25:44,919 ] Finish generating!\n"
     ]
    }
   ],
   "source": [
    "\n",
    "!python main.py --config 1008 -v -e -vc 30 -pp /home/thinh-do/Workspace/ResGCNv1/pretrained/"
   ]
  }
 ],
 "metadata": {
  "interpreter": {
   "hash": "916dbcbb3f70747c44a77c7bcd40155683ae19c65e1c03b4aa3499c5328201f1"
  },
  "kernelspec": {
   "display_name": "Python 3.8.10 64-bit",
   "language": "python",
   "name": "python3"
  },
  "language_info": {
   "codemirror_mode": {
    "name": "ipython",
    "version": 3
   },
   "file_extension": ".py",
   "mimetype": "text/x-python",
   "name": "python",
   "nbconvert_exporter": "python",
   "pygments_lexer": "ipython3",
   "version": "3.8.10"
  },
  "orig_nbformat": 4
 },
 "nbformat": 4,
 "nbformat_minor": 2
}
